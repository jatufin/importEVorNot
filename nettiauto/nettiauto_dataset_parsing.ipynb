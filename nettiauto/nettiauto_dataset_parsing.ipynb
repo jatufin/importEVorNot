{
 "cells": [
  {
   "cell_type": "code",
   "execution_count": 107,
   "metadata": {},
   "outputs": [],
   "source": [
    "ACCESSORIES_TO_COLUMN_NAME = {\n",
    "    'Airconditioning: Automatic': 'airconditioning',\n",
    "    'Parking sensors': 'parking_sensors',\n",
    "    'Satellite navigator': 'satellite_navigator',\n",
    "    'Cruise control: Adaptive': 'cruise_control_adaptive',\n",
    "    'Parking camera: Simple camera': 'parking_camera_simple_camera',\n",
    "    'Seat heaters': 'seat_heaters',\n",
    "    'Driving assistant': 'driving_assistant',\n",
    "    'Alloy wheels': 'alloy_wheels',\n",
    "    'Electric mirrors': 'electric_mirrors',\n",
    "    'Lane departure warning system': 'lane_departure_warning_system',\n",
    "    'Electrically operated tailgate': 'electrically_operated_tailgate',\n",
    "    'Leather upholstery': 'leather_upholstery',\n",
    "    'Emergency brake assist': 'emergency_brake_assist',\n",
    "    'Collision avoidance system': 'collision_avoidance_system',\n",
    "    'Cruise control: Traditional': 'cruise_control_traditional',\n",
    "    'Parking Assistant': 'parking_assistant',\n",
    "    'Tow bar': 'tow_bar',\n",
    "    'Electric seats: With memory': 'electric_seats_with_memory',\n",
    "    'Heated steering wheel': 'heated_steering_wheel',\n",
    "    'Sunroof': 'sunroof',\n",
    "    'Sun hatch: With panorama': 'sun_hatch_with_panorama',\n",
    "    'Adaptive headlights': 'adaptive_headlights',\n",
    "    'Sport seats': 'sport_seats',\n",
    "    'Fuel / battery powered heater': 'fuel_battery_powered_heater',\n",
    "    'Parking camera: 360-degree camera': 'parking_camera_360-degree_camera',\n",
    "    'Battery preheating': 'battery_preheating',\n",
    "    'Electric seats: Without memory': 'electric_seats_without_memory',\n",
    "    'Air suspension': 'air_suspension',\n",
    "    'Curve lights': 'curve_lights',\n",
    "    'Head-Up display': 'head_up_display',\n",
    "    'Sport base': 'sport_base,'\n",
    "}\n",
    "\n",
    "DRIVE_TYPE = {'Four wheel': '4wd', 'Front wheel': 'fwd', 'Rear wheel': 'rwd', 'Not available': None}\n",
    "\n",
    "fields_to_pick = [\n",
    "    'make',\n",
    "    'model',\n",
    "    'modelTypeName',\n",
    "    'color',\n",
    "    'driveType',\n",
    "    'price',\n",
    "    'totalOwners',\n",
    "    'kilometers',\n",
    "    'seats',\n",
    "    'power',\n",
    "    'batteryCapacity',\n",
    "    'electricRange',\n",
    "]\n",
    "\n",
    "columns = [\n",
    "    *fields_to_pick,\n",
    "    'isSuv',\n",
    "    'metallicColor',\n",
    "    *ACCESSORIES_TO_COLUMN_NAME.values(),\n",
    "]"
   ]
  },
  {
   "cell_type": "code",
   "execution_count": 142,
   "metadata": {},
   "outputs": [
    {
     "name": "stdout",
     "output_type": "stream",
     "text": [
      "0\n",
      "77\n",
      "88\n",
      "77\n"
     ]
    }
   ],
   "source": [
    "import re\n",
    "\n",
    "zero_times_s = 'Pro Performance 1ST 150 kW'\n",
    "one_times_s = 'Pro Performance 1ST 150 kW, akku 77 kWh'\n",
    "two_times_s = 'Pro Performance 1ST 150 kW, akku 77 kWh Pro Performance 1ST 150 kW, akku 88 kWh'\n",
    "one_time_no_space = 'Pro Performance 1ST 150 kW, akku 77kWh Pro Performance 1ST 150 kW'\n",
    "\n",
    "\n",
    "\n",
    "battery_regex = r'\\d{2,3}\\s*kWh'\n",
    "\n",
    "def parse_battery_capacity_from_free_text(free_text):\n",
    "    matches = re.findall(battery_regex, free_text, re.IGNORECASE)\n",
    "    if not len(matches):\n",
    "        return 0\n",
    "    return sorted([int(s.lower().replace('kwh', '').split()[0]) for s in matches], reverse=True)[0]\n",
    "\n",
    "print(parse_battery_capacity_from_free_text(zero_times_s))\n",
    "print(parse_battery_capacity_from_free_text(one_times_s))\n",
    "print(parse_battery_capacity_from_free_text(two_times_s))\n",
    "print(parse_battery_capacity_from_free_text(one_time_no_space))"
   ]
  },
  {
   "cell_type": "code",
   "execution_count": 202,
   "metadata": {},
   "outputs": [
    {
     "name": "stdout",
     "output_type": "stream",
     "text": [
      "2021-01_response_1696071482757.json\n",
      "2021-02_response_1696071737045.json\n",
      "2021-03_response_1696072016857.json\n",
      "2021-04_response_1696072267024.json\n",
      "2021-05_response_1696072588298.json\n",
      "2021-06_response_1696072850927.json\n",
      "2021-07_response_1696073239785.json\n",
      "2021-08_response_1696073507847.json\n",
      "2021-09_response_1696073655890.json\n",
      "2022-01_response_1696074468991.json\n",
      "2022-02_response_1696074615821.json\n",
      "2022-03_response_1696074839641.json\n",
      "2022-04_response_1696075021170.json\n",
      "2022-05_response_1696075239764.json\n",
      "2022-07_response_1696075876798.json\n",
      "2022-07_response_1696079148457.json\n",
      "2022-08_response_1696076147323.json\n",
      "2022-09_response_1696076364847.json\n",
      "2022-10_response_1696076596294.json\n",
      "2022-11_response_1696076798891.json\n",
      "2022-12_response_1696076991892.json\n",
      "2022-13_response_1696077143377.json\n",
      "2022-14_response_1696077274819.json\n",
      "2022_06_response_1696075611367.json\n",
      "2023-01_response_1696078129488.json\n",
      "2023-02_response_1696078250632.json\n",
      "2023-03_response_1696078413236.json\n",
      "2023-04_response_1696078557947.json\n",
      "2023-05_response_1696078706413.json\n",
      "2023-06_response_1696078884031.json\n",
      "2023-08_response_1696079394270.json\n",
      "2023-09_response_1696079549247.json\n",
      "2023-10_response_1696079699935.json\n",
      "2023-11_response_1696079889470.json\n",
      "2023-12_response_1696080076382.json\n",
      "2023-13_response_1696080219282.json\n",
      "2023-14_response_1696080438741.json\n",
      "2023-15_response_1696080634568.json\n",
      "2023-16_response_1696080829252.json\n",
      "2023-17_response_1696081303902.json\n",
      "2023-18_response_1696081442631.json\n",
      "2023-19_response_1696081597850.json\n",
      "2023-20_response_1696081742303.json\n",
      "2023-21_response_1696081858431.json\n",
      "2024-01_response_1696082415731.json\n"
     ]
    },
    {
     "data": {
      "text/html": [
       "<div>\n",
       "<style scoped>\n",
       "    .dataframe tbody tr th:only-of-type {\n",
       "        vertical-align: middle;\n",
       "    }\n",
       "\n",
       "    .dataframe tbody tr th {\n",
       "        vertical-align: top;\n",
       "    }\n",
       "\n",
       "    .dataframe thead th {\n",
       "        text-align: right;\n",
       "    }\n",
       "</style>\n",
       "<table border=\"1\" class=\"dataframe\">\n",
       "  <thead>\n",
       "    <tr style=\"text-align: right;\">\n",
       "      <th></th>\n",
       "      <th>make</th>\n",
       "      <th>model</th>\n",
       "      <th>modelTypeName</th>\n",
       "      <th>color</th>\n",
       "      <th>driveType</th>\n",
       "      <th>price</th>\n",
       "      <th>totalOwners</th>\n",
       "      <th>kilometers</th>\n",
       "      <th>seats</th>\n",
       "      <th>power</th>\n",
       "      <th>...</th>\n",
       "      <th>adaptive_headlights</th>\n",
       "      <th>sport_seats</th>\n",
       "      <th>fuel_battery_powered_heater</th>\n",
       "      <th>parking_camera_360-degree_camera</th>\n",
       "      <th>battery_preheating</th>\n",
       "      <th>electric_seats_without_memory</th>\n",
       "      <th>air_suspension</th>\n",
       "      <th>curve_lights</th>\n",
       "      <th>head_up_display</th>\n",
       "      <th>sport_base,</th>\n",
       "    </tr>\n",
       "  </thead>\n",
       "  <tbody>\n",
       "    <tr>\n",
       "      <th>0</th>\n",
       "      <td>porsche</td>\n",
       "      <td>taycan</td>\n",
       "      <td>Taycan sähköauto Heti toimitukseen!! rahoitus ...</td>\n",
       "      <td>black</td>\n",
       "      <td>rwd</td>\n",
       "      <td>101880.0</td>\n",
       "      <td>1.0</td>\n",
       "      <td>2100.0</td>\n",
       "      <td>5.0</td>\n",
       "      <td>300.0</td>\n",
       "      <td>...</td>\n",
       "      <td>False</td>\n",
       "      <td>True</td>\n",
       "      <td>False</td>\n",
       "      <td>False</td>\n",
       "      <td>False</td>\n",
       "      <td>True</td>\n",
       "      <td>False</td>\n",
       "      <td>False</td>\n",
       "      <td>False</td>\n",
       "      <td>True</td>\n",
       "    </tr>\n",
       "    <tr>\n",
       "      <th>1</th>\n",
       "      <td>opel</td>\n",
       "      <td>zafira-e</td>\n",
       "      <td>Life L Comfort 136 automaatti 50 **Täyssähkö, ...</td>\n",
       "      <td>other</td>\n",
       "      <td>fwd</td>\n",
       "      <td>47900.0</td>\n",
       "      <td>NaN</td>\n",
       "      <td>2500.0</td>\n",
       "      <td>NaN</td>\n",
       "      <td>100.0</td>\n",
       "      <td>...</td>\n",
       "      <td>False</td>\n",
       "      <td>False</td>\n",
       "      <td>False</td>\n",
       "      <td>False</td>\n",
       "      <td>False</td>\n",
       "      <td>False</td>\n",
       "      <td>False</td>\n",
       "      <td>False</td>\n",
       "      <td>False</td>\n",
       "      <td>False</td>\n",
       "    </tr>\n",
       "    <tr>\n",
       "      <th>2</th>\n",
       "      <td>mercedes-benz</td>\n",
       "      <td>eqs</td>\n",
       "      <td>580 4Matic ** Muistipenkit, Burmester, nelipyö...</td>\n",
       "      <td>gray</td>\n",
       "      <td>4wd</td>\n",
       "      <td>125900.0</td>\n",
       "      <td>NaN</td>\n",
       "      <td>30000.0</td>\n",
       "      <td>5.0</td>\n",
       "      <td>385.0</td>\n",
       "      <td>...</td>\n",
       "      <td>True</td>\n",
       "      <td>True</td>\n",
       "      <td>True</td>\n",
       "      <td>True</td>\n",
       "      <td>True</td>\n",
       "      <td>False</td>\n",
       "      <td>True</td>\n",
       "      <td>False</td>\n",
       "      <td>False</td>\n",
       "      <td>False</td>\n",
       "    </tr>\n",
       "    <tr>\n",
       "      <th>3</th>\n",
       "      <td>nissan</td>\n",
       "      <td>leaf</td>\n",
       "      <td>e+ N-Connecta MY21 62 kWh *Isoakkunen Huippuva...</td>\n",
       "      <td>black</td>\n",
       "      <td>fwd</td>\n",
       "      <td>35800.0</td>\n",
       "      <td>NaN</td>\n",
       "      <td>10000.0</td>\n",
       "      <td>5.0</td>\n",
       "      <td>160.0</td>\n",
       "      <td>...</td>\n",
       "      <td>False</td>\n",
       "      <td>False</td>\n",
       "      <td>False</td>\n",
       "      <td>False</td>\n",
       "      <td>False</td>\n",
       "      <td>False</td>\n",
       "      <td>False</td>\n",
       "      <td>False</td>\n",
       "      <td>False</td>\n",
       "      <td>False</td>\n",
       "    </tr>\n",
       "    <tr>\n",
       "      <th>4</th>\n",
       "      <td>citroen</td>\n",
       "      <td>e-c4</td>\n",
       "      <td>Full Electric 136 Shine 50 kWh, KORKOTARJOUS 3...</td>\n",
       "      <td>blue</td>\n",
       "      <td>fwd</td>\n",
       "      <td>33800.0</td>\n",
       "      <td>NaN</td>\n",
       "      <td>17000.0</td>\n",
       "      <td>5.0</td>\n",
       "      <td>100.0</td>\n",
       "      <td>...</td>\n",
       "      <td>False</td>\n",
       "      <td>False</td>\n",
       "      <td>False</td>\n",
       "      <td>False</td>\n",
       "      <td>False</td>\n",
       "      <td>False</td>\n",
       "      <td>False</td>\n",
       "      <td>False</td>\n",
       "      <td>False</td>\n",
       "      <td>False</td>\n",
       "    </tr>\n",
       "  </tbody>\n",
       "</table>\n",
       "<p>5 rows × 45 columns</p>\n",
       "</div>"
      ],
      "text/plain": [
       "            make     model                                      modelTypeName  \\\n",
       "0        porsche    taycan  Taycan sähköauto Heti toimitukseen!! rahoitus ...   \n",
       "1           opel  zafira-e  Life L Comfort 136 automaatti 50 **Täyssähkö, ...   \n",
       "2  mercedes-benz       eqs  580 4Matic ** Muistipenkit, Burmester, nelipyö...   \n",
       "3         nissan      leaf  e+ N-Connecta MY21 62 kWh *Isoakkunen Huippuva...   \n",
       "4        citroen      e-c4  Full Electric 136 Shine 50 kWh, KORKOTARJOUS 3...   \n",
       "\n",
       "   color driveType     price totalOwners  kilometers  seats  power  ...  \\\n",
       "0  black       rwd  101880.0         1.0      2100.0    5.0  300.0  ...   \n",
       "1  other       fwd   47900.0         NaN      2500.0    NaN  100.0  ...   \n",
       "2   gray       4wd  125900.0         NaN     30000.0    5.0  385.0  ...   \n",
       "3  black       fwd   35800.0         NaN     10000.0    5.0  160.0  ...   \n",
       "4   blue       fwd   33800.0         NaN     17000.0    5.0  100.0  ...   \n",
       "\n",
       "   adaptive_headlights sport_seats  fuel_battery_powered_heater  \\\n",
       "0                False        True                        False   \n",
       "1                False       False                        False   \n",
       "2                 True        True                         True   \n",
       "3                False       False                        False   \n",
       "4                False       False                        False   \n",
       "\n",
       "   parking_camera_360-degree_camera  battery_preheating  \\\n",
       "0                             False               False   \n",
       "1                             False               False   \n",
       "2                              True                True   \n",
       "3                             False               False   \n",
       "4                             False               False   \n",
       "\n",
       "   electric_seats_without_memory  air_suspension  curve_lights  \\\n",
       "0                           True           False         False   \n",
       "1                          False           False         False   \n",
       "2                          False            True         False   \n",
       "3                          False           False         False   \n",
       "4                          False           False         False   \n",
       "\n",
       "   head_up_display  sport_base,  \n",
       "0            False         True  \n",
       "1            False        False  \n",
       "2            False        False  \n",
       "3            False        False  \n",
       "4            False        False  \n",
       "\n",
       "[5 rows x 45 columns]"
      ]
     },
     "execution_count": 202,
     "metadata": {},
     "output_type": "execute_result"
    }
   ],
   "source": [
    "import os\n",
    "import json\n",
    "import pandas as pd\n",
    "\n",
    "QUERY_RESULTS_PATH = './query_results'\n",
    "\n",
    "\n",
    "\n",
    "def open_nettiauto_file(file_name):\n",
    "    print(file_name)\n",
    "    with open(f'{QUERY_RESULTS_PATH}/{file_name}', 'r') as f:\n",
    "        data = json.load(f)\n",
    "    return data\n",
    "\n",
    "def map_nettiauto_entry_to_row(item):\n",
    "    try:\n",
    "        acc = item['accessories'] if item['accessories'] else []\n",
    "        acc_set = set([ ACCESSORIES_TO_COLUMN_NAME[row['en']] for row in acc if row['en'] in ACCESSORIES_TO_COLUMN_NAME])\n",
    "\n",
    "\n",
    "        result_without_accessories = {key: item[key] for key in fields_to_pick if key in item}\n",
    "        result_without_accessories['isSuv'] = item['bodyType']['id'] == 5\n",
    "        result_without_accessories['make'] = result_without_accessories['make']['name'].lower()\n",
    "        result_without_accessories['model'] = result_without_accessories['model']['name'].lower()\n",
    "        result_without_accessories['color'] = result_without_accessories['color']['en'].lower()\n",
    "        result_without_accessories['metallicColor'] = item['colorType']['en'].lower() == 'metallic'\n",
    "        result_without_accessories['driveType'] = DRIVE_TYPE[result_without_accessories['driveType']['en']]\n",
    "        \n",
    "        # It's ugly but does its job. I was able to get the missing batteryCapacity from 2109 to 1219\n",
    "        if not result_without_accessories['batteryCapacity'] and 'modelTypeName' in item and item['modelTypeName']:\n",
    "            result_without_accessories['batteryCapacity'] = parse_battery_capacity_from_free_text(item['modelTypeName'])\n",
    "        if not result_without_accessories['batteryCapacity'] and 'description' in item and item['description']:\n",
    "            result_without_accessories['batteryCapacity'] = parse_battery_capacity_from_free_text(item['description'])\n",
    "\n",
    "        return {\n",
    "            **result_without_accessories,\n",
    "            **{key: key in acc_set for key in ACCESSORIES_TO_COLUMN_NAME.values()},\n",
    "        }\n",
    "    except Exception as e:\n",
    "        print(item['id'])\n",
    "        raise e\n",
    "\n",
    "\n",
    "dfs = []\n",
    "\n",
    "for file_name in sorted(os.listdir(QUERY_RESULTS_PATH)):\n",
    "    results = map(map_nettiauto_entry_to_row, open_nettiauto_file(file_name))\n",
    "    dfs.append(pd.DataFrame(data=results, columns=columns))\n",
    "\n",
    "    \n",
    "df = pd.concat(dfs)\n",
    "df.head()\n"
   ]
  },
  {
   "cell_type": "code",
   "execution_count": 204,
   "metadata": {},
   "outputs": [
    {
     "data": {
      "text/plain": [
       "model\n",
       "bz4x    34\n",
       "Name: count, dtype: int64"
      ]
     },
     "execution_count": 204,
     "metadata": {},
     "output_type": "execute_result"
    }
   ],
   "source": [
    "toyotas_no_battery = no_battery_df[no_battery_df['make'] == 'toyota']['model']\n",
    "toyotas_no_battery.value_counts()"
   ]
  },
  {
   "cell_type": "code",
   "execution_count": 205,
   "metadata": {},
   "outputs": [
    {
     "name": "stdout",
     "output_type": "stream",
     "text": [
      "batteryCapacity\n",
      "0.0      78\n",
      "90.0     25\n",
      "89.0     24\n",
      "90.6     11\n",
      "100.0     7\n",
      "91.0      3\n",
      "98.0      2\n",
      "88.1      1\n",
      "56.0      1\n",
      "Name: count, dtype: int64\n"
     ]
    },
    {
     "data": {
      "text/plain": [
       "16    350+ #Suomi-auto  #Panoraamalasikatto #Premium...\n",
       "17    Mercedes-AMG EQE 43 4MATIC #Suomi-auto #Premiu...\n",
       "18    350+ #AMG Line #Suomi-auto #Premium #Digital L...\n",
       "19                      350+ *** Korko alk. 1,95% !!! *\n",
       "43    350+ #Suomi-auto #Premium #AMG-ulko-/sisä #AMG...\n",
       "                            ...                        \n",
       "89    500 4MATIC SUV ** Esittelyauto nopeaan toimitu...\n",
       "92                                           350 4MATIC\n",
       "97    350 4matic ** Esittelyauto nopeaan toimituksee...\n",
       "7                                        350 4MATIC SUV\n",
       "14    500 4MATIC SUV #Heti toimitus #AMG-Line #Nelip...\n",
       "Name: modelTypeName, Length: 152, dtype: object"
      ]
     },
     "execution_count": 205,
     "metadata": {},
     "output_type": "execute_result"
    }
   ],
   "source": [
    "mercedes = df[(df['make'] == 'mercedes-benz') & (df['model'] == 'eqe')]\n",
    "print(mercedes['batteryCapacity'].value_counts())\n",
    "mercedes['modelTypeName']"
   ]
  },
  {
   "cell_type": "code",
   "execution_count": 206,
   "metadata": {},
   "outputs": [
    {
     "name": "stderr",
     "output_type": "stream",
     "text": [
      "/var/folders/3r/zp_fcf693r3g5yq1xc11l1j00000gn/T/ipykernel_37952/2683371586.py:1: UserWarning: This pattern is interpreted as a regular expression, and has match groups. To actually get the groups, use str.extract.\n",
      "  mask = (df['make'] == 'mercedes-benz') & (df['model'] == 'eqe') & (df['modelTypeName'].str.contains(r'(350|300)\\s', regex=True))\n",
      "/var/folders/3r/zp_fcf693r3g5yq1xc11l1j00000gn/T/ipykernel_37952/2683371586.py:3: UserWarning: This pattern is interpreted as a regular expression, and has match groups. To actually get the groups, use str.extract.\n",
      "  mask = (df['make'] == 'mercedes-benz') & (df['model'] == 'eqe') & (df['modelTypeName'].str.contains(r'(350\\+|500|43)\\s', regex=True))\n"
     ]
    },
    {
     "data": {
      "text/plain": [
       "49    2xAMG-Line, Distronic+, Panorama, Muistipakett...\n",
       "99                                                 None\n",
       "5                                                  None\n",
       "51    AMG-Line SE-edition, hinta sis.alv 24%, vetoko...\n",
       "51                                                 None\n",
       "43                                                 None\n",
       "52    Advanced Sound System, Nahkaverhoilu, LED High...\n",
       "23                                                 None\n",
       "69                                                 None\n",
       "11                                                 None\n",
       "61                                                 None\n",
       "9                                                   300\n",
       "Name: modelTypeName, dtype: object"
      ]
     },
     "execution_count": 206,
     "metadata": {},
     "output_type": "execute_result"
    }
   ],
   "source": [
    "mask = (df['make'] == 'mercedes-benz') & (df['model'] == 'eqe') & (df['modelTypeName'].str.contains(r'(350|300)\\s', regex=True))\n",
    "df.loc[mask, 'batteryCapacity'] = 89.0\n",
    "mask = (df['make'] == 'mercedes-benz') & (df['model'] == 'eqe') & (df['modelTypeName'].str.contains(r'(350\\+|500|43)\\s', regex=True))\n",
    "df.loc[mask, 'batteryCapacity'] = 90.6\n",
    "df[(df['batteryCapacity'] == 0) & (df['make'] == 'mercedes-benz') & (df['model'] == 'eqe')]['modelTypeName']\n"
   ]
  },
  {
   "cell_type": "code",
   "execution_count": 207,
   "metadata": {},
   "outputs": [
    {
     "name": "stdout",
     "output_type": "stream",
     "text": [
      "batteryCapacity\n",
      "0.0      34\n",
      "108.0    19\n",
      "108.4     6\n",
      "107.8     4\n",
      "120.0     3\n",
      "112.0     2\n",
      "107.0     1\n",
      "Name: count, dtype: int64\n"
     ]
    },
    {
     "name": "stderr",
     "output_type": "stream",
     "text": [
      "/var/folders/3r/zp_fcf693r3g5yq1xc11l1j00000gn/T/ipykernel_37952/774634179.py:1: UserWarning: This pattern is interpreted as a regular expression, and has match groups. To actually get the groups, use str.extract.\n",
      "  mask = (df['make'] == 'mercedes-benz') & (df['model'] == 'eqs') & (df['modelTypeName'].str.contains(r'(450|450\\+|580|53)\\s', regex=True))\n"
     ]
    },
    {
     "data": {
      "text/plain": [
       "2     580 4Matic ** Muistipenkit, Burmester, nelipyö...\n",
       "19    580 4Matic Electric Art / Night / designo / Pr...\n",
       "28    580 4Matic - ** Nelipyöräohjaus / Koukku / Bur...\n",
       "38    580 4Matic *AMG, Premium Plus, Panorama, Night...\n",
       "60    450+ **AMG Line, Panoraama, Burmester, Koukku,...\n",
       "                            ...                        \n",
       "0                     580 4MATIC *NOPEAAN TOIMITUKSEEN*\n",
       "9     53 AMG 4MATIC+ **762HP, HUIPPUVARUSTEET & KORK...\n",
       "75                                       450 4MATIC SUV\n",
       "0     450 4MATIC SUV ** Esittelyauto nopeaan toimitu...\n",
       "12    580 4Matic AMG Burmester/HUD/Nahkaverhoilu/Ilm...\n",
       "Name: modelTypeName, Length: 69, dtype: object"
      ]
     },
     "execution_count": 207,
     "metadata": {},
     "output_type": "execute_result"
    }
   ],
   "source": [
    "mask = (df['make'] == 'mercedes-benz') & (df['model'] == 'eqs') & (df['modelTypeName'].str.contains(r'(450|450\\+|580|53)\\s', regex=True))\n",
    "mercedes = df[mask]\n",
    "print(mercedes['batteryCapacity'].value_counts())\n",
    "mercedes['modelTypeName']"
   ]
  },
  {
   "cell_type": "code",
   "execution_count": 208,
   "metadata": {},
   "outputs": [
    {
     "name": "stderr",
     "output_type": "stream",
     "text": [
      "/var/folders/3r/zp_fcf693r3g5yq1xc11l1j00000gn/T/ipykernel_37952/985649123.py:2: UserWarning: This pattern is interpreted as a regular expression, and has match groups. To actually get the groups, use str.extract.\n",
      "  mask = (df['make'] == 'mercedes-benz') & (df['model'] == 'eqs') & (df['modelTypeName'].str.contains(r'(450|450\\+|580|53)\\s', regex=True))\n",
      "/var/folders/3r/zp_fcf693r3g5yq1xc11l1j00000gn/T/ipykernel_37952/985649123.py:4: UserWarning: This pattern is interpreted as a regular expression, and has match groups. To actually get the groups, use str.extract.\n",
      "  mask = (df['make'] == 'mercedes-benz') & (df['model'] == 'eqs') & (df['modelTypeName'].str.contains(r'(350)\\s', regex=True))\n"
     ]
    }
   ],
   "source": [
    "# https://www.mercedes-benz.fi/content/dam/finland/passengercars/NEW-WLTP-pricelists/EQS/EQS_25042023_1.pdf\n",
    "mask = (df['make'] == 'mercedes-benz') & (df['model'] == 'eqs') & (df['modelTypeName'].str.contains(r'(450|450\\+|580|53)\\s', regex=True))\n",
    "df.loc[mask, 'batteryCapacity'] = 108.4\n",
    "mask = (df['make'] == 'mercedes-benz') & (df['model'] == 'eqs') & (df['modelTypeName'].str.contains(r'(350)\\s', regex=True))\n",
    "df.loc[mask, 'batteryCapacity'] = 90.6"
   ]
  },
  {
   "cell_type": "code",
   "execution_count": 209,
   "metadata": {},
   "outputs": [
    {
     "name": "stdout",
     "output_type": "stream",
     "text": [
      "batteryCapacity\n",
      "66.0     1\n",
      "100.0    1\n",
      "70.0     1\n",
      "0.0      1\n",
      "Name: count, dtype: int64\n"
     ]
    },
    {
     "data": {
      "text/plain": [
       "63    250+ suuremmalla akulla Advanced 529km (WLTP) ...\n",
       "15    250+ Business / Koukku / AMG Line / EQ-Navigoi...\n",
       "26     250+ Business **Distronic, MBUX-inovaatiopaketti\n",
       "17                                        250+ Business\n",
       "Name: modelTypeName, dtype: object"
      ]
     },
     "execution_count": 209,
     "metadata": {},
     "output_type": "execute_result"
    }
   ],
   "source": [
    "mask = (df['make'] == 'mercedes-benz') & (df['model'] == 'eqa') & (df['modelTypeName'].str.contains(r'\\d{3}\\+\\s', regex=True))\n",
    "mercedes = df[mask]\n",
    "print(mercedes['batteryCapacity'].value_counts())\n",
    "mercedes['modelTypeName']"
   ]
  },
  {
   "cell_type": "code",
   "execution_count": 211,
   "metadata": {},
   "outputs": [],
   "source": [
    "# https://www.mercedes-benz.fi/content/dam/finland/passengercars/NEW-WLTP-pricelists/EQA/EQA_10.5.2023_1.pdf\n",
    "mask = (df['make'] == 'mercedes-benz') & (df['model'] == 'eqa') & (df['modelTypeName'].str.contains(r'\\d{3}\\+\\s', regex=True))\n",
    "df.loc[mask, 'batteryCapacity'] = 70.5\n",
    "mask = (df['make'] == 'mercedes-benz') & (df['model'] == 'eqa') & (df['modelTypeName'].str.contains(r'\\d{3}\\s', regex=True))\n",
    "df.loc[mask, 'batteryCapacity'] = 66.5"
   ]
  },
  {
   "cell_type": "code",
   "execution_count": 212,
   "metadata": {},
   "outputs": [
    {
     "name": "stdout",
     "output_type": "stream",
     "text": [
      "Series([], Name: count, dtype: int64)\n"
     ]
    },
    {
     "data": {
      "text/plain": [
       "Series([], Name: modelTypeName, dtype: object)"
      ]
     },
     "execution_count": 212,
     "metadata": {},
     "output_type": "execute_result"
    }
   ],
   "source": [
    "mask = (df['make'] == 'mercedes-benz') & (df['model'] == 'eqb') & (df['modelTypeName'].str.contains(r'\\d{3}\\+\\s', regex=True))\n",
    "mercedes = df[mask]\n",
    "print(mercedes['batteryCapacity'].value_counts())\n",
    "mercedes['modelTypeName']"
   ]
  },
  {
   "cell_type": "code",
   "execution_count": 213,
   "metadata": {},
   "outputs": [],
   "source": [
    "mask = (df['make'] == 'mercedes-benz') & (df['model'] == 'eqb') & (df['modelTypeName'].str.contains(r'\\d{3}\\+\\s', regex=True))\n",
    "df.loc[mask, 'batteryCapacity'] = 70.5\n",
    "mask = (df['make'] == 'mercedes-benz') & (df['model'] == 'eqb') & (df['modelTypeName'].str.contains(r'\\d{3}\\s', regex=True))\n",
    "df.loc[mask, 'batteryCapacity'] = 66.5"
   ]
  },
  {
   "cell_type": "code",
   "execution_count": 214,
   "metadata": {},
   "outputs": [],
   "source": [
    "mask = (df['make'] == 'mercedes-benz') & (df['model'] == 'eqc')\n",
    "df.loc[mask, 'batteryCapacity'] = 80"
   ]
  },
  {
   "cell_type": "code",
   "execution_count": 215,
   "metadata": {},
   "outputs": [
    {
     "data": {
      "text/plain": [
       "model\n",
       "eqe        12\n",
       "eqs        10\n",
       "eqa         8\n",
       "eqs suv     8\n",
       "eqb         7\n",
       "eqv         3\n",
       "vito        1\n",
       "Name: count, dtype: int64"
      ]
     },
     "execution_count": 215,
     "metadata": {},
     "output_type": "execute_result"
    }
   ],
   "source": [
    "no_battery_df = df[df['batteryCapacity'] == 0]\n",
    "mercedes_no_battery = no_battery_df[no_battery_df['make'] == 'mercedes-benz']['model']\n",
    "mercedes_no_battery.value_counts()"
   ]
  },
  {
   "cell_type": "code",
   "execution_count": 216,
   "metadata": {},
   "outputs": [
    {
     "name": "stdout",
     "output_type": "stream",
     "text": [
      "                                        modelTypeName  batteryCapacity\n",
      "92  xDrive40 // BMW Premium Selection -takuu 24kk/...              0.0\n",
      "20  xDrive40 Fully Charged / Adapt.cruise / HUD / ...             76.6\n",
      "28  xDrive40 *SUPERVARUSTEET! 22\"/LASER/HUD/PANORA...              0.0\n",
      "88  xDrive40 Fully Charged, WLTP 372km, Harman/Kar...              0.0\n",
      "71  xDrive40 Fully Charged 11CF *** Korko alk. 1,9...              0.0\n",
      "88  xDrive40, WLTP 372km, Sähkösäätöiset Etuistuim...             71.0\n",
      "15  xDrive40 Fully Charged *ESITTELYAUTO* Hinta uu...              0.0\n",
      "42  xDrive40 Fully Charged // Huippuvarusteet  **B...              0.0\n",
      "62        xDrive40 *** BMW Rahoitusetu 2,90% (+kulut)              0.0\n",
      "63  Akku 77kWh xDrive40 Fully Charged Aut. 326hv |...             77.0\n",
      "85  xDrive40, WLTP 372km, HUD, Kamera, Sähkösäätöi...             71.0\n",
      "12  xDrive40 Fully Charged // Sport paketti/Ajoavu...              0.0\n",
      "82  xDrive40 Fully Charged, WLTP 372km, Innovation...             71.0\n",
      "83  xDrive40 Fully Charged // H&K/ Sky Lounge/ Las...              0.0\n",
      "34  xDrive40 Fully Charged // Skylounge/ Laser/ Dr...              0.0\n",
      "70  xDrive40 Fully Charged *SOFT CLOSE OVET, SPORT...             76.0\n",
      "5   xDrive40 / Sport-paketti / HUD / ACC / Ilmasto...             76.0\n",
      "49         xDrive40 Fully Charged **huippuvarusteet**             71.0\n",
      "84  xDrive40 - Black Sapphire / Atelier Mokka (SAM...             77.0\n",
      "6   xDrive40 / Tulossa Ouluun / Sport Package / Dr...             76.0\n",
      "40  xDrive40 - 3,99% korko ja 1000€ S-bonusostokir...             77.0\n",
      "14        xDrive40 *** BMW Rahoitusetu 2,90% (+kulut)             76.6\n",
      "62  xDrive40 Fully Charged 11CF *** Korko alk. 1,9...              0.0\n",
      "70                                           xDrive40              0.0\n",
      "74     xDrive40 - Upea sähköauto nopeaan toimitukseen              0.0\n",
      "78  xDrive40 Fully Charged Sport Ilmajousituksella...             76.6\n",
      "10  xDrive40 Fully Charged Sport *** Korko alk. 1,...              0.0\n",
      "34                            xDrive 40 Fully Charged              0.0\n",
      "40  xDrive40 Fully Charged \"Runsailla varusteilla\"...             71.0\n",
      "29  xDrive40 Fully Charged Sport *** Korko alk. 1,...              0.0\n",
      "83  xDrive40 Fully Charged, Sport-paketti, Laser v...              0.0\n"
     ]
    }
   ],
   "source": [
    "mask = (df['make'] == 'bmw') & (df['model'] == 'ix') & (df['modelTypeName'].str.contains(r'xDrive\\s*40', regex=True))\n",
    "print(df[mask][['modelTypeName', 'batteryCapacity']])\n",
    "df.loc[mask, 'batteryCapacity'] = 76.6\n",
    "mask = (df['make'] == 'bmw') & (df['model'] == 'ix') & -mask\n",
    "df.loc[mask, 'batteryCapacity'] = 111.5"
   ]
  },
  {
   "cell_type": "code",
   "execution_count": 217,
   "metadata": {},
   "outputs": [
    {
     "data": {
      "text/plain": [
       "model\n",
       "ix1       33\n",
       "i4        29\n",
       "i4 m50    25\n",
       "ix3       19\n",
       "i7         5\n",
       "i3         4\n",
       "i3s        3\n",
       "ix m60     3\n",
       "Name: count, dtype: int64"
      ]
     },
     "execution_count": 217,
     "metadata": {},
     "output_type": "execute_result"
    }
   ],
   "source": [
    "no_battery_df = df[df['batteryCapacity'] == 0]\n",
    "bmw_no_battery = no_battery_df[no_battery_df['make'] == 'bmw']['model']\n",
    "bmw_no_battery.value_counts()"
   ]
  },
  {
   "cell_type": "code",
   "execution_count": 218,
   "metadata": {},
   "outputs": [
    {
     "name": "stdout",
     "output_type": "stream",
     "text": [
      "0.7618595825426945\n",
      "1004\n"
     ]
    }
   ],
   "source": [
    "no_battery_df = df[df['batteryCapacity'] == 0]\n",
    "no_battery_df['make'].value_counts()\n",
    "print(sum(df['batteryCapacity'] > 0) / len(df))\n",
    "print(sum(df['batteryCapacity'] == 0))"
   ]
  }
 ],
 "metadata": {
  "kernelspec": {
   "display_name": "intro-ds",
   "language": "python",
   "name": "python3"
  },
  "language_info": {
   "codemirror_mode": {
    "name": "ipython",
    "version": 3
   },
   "file_extension": ".py",
   "mimetype": "text/x-python",
   "name": "python",
   "nbconvert_exporter": "python",
   "pygments_lexer": "ipython3",
   "version": "3.10.13"
  },
  "orig_nbformat": 4
 },
 "nbformat": 4,
 "nbformat_minor": 2
}
