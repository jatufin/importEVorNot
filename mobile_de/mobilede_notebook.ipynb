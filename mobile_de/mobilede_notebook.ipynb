{
 "cells": [
  {
   "cell_type": "code",
   "execution_count": 217,
   "metadata": {},
   "outputs": [],
   "source": [
    "from mobilede_utils import request_car_detail_page\n",
    "\n",
    "html = request_car_detail_page('358672814')\n",
    "\n",
    "with open('car.html', 'w') as f:\n",
    "    f.write(html)"
   ]
  },
  {
   "cell_type": "code",
   "execution_count": 219,
   "metadata": {},
   "outputs": [],
   "source": [
    "from car_mapping import CAR_MAKE_MAP, CAR_MAKE_MODEL_MAP\n",
    "from mobilede_utils import request_search_page\n",
    "\n",
    "search_page = request_search_page('volkswagen', 'id.3')\n",
    "\n",
    "with open('search.html', 'w') as f:\n",
    "    f.write(search_page)"
   ]
  },
  {
   "cell_type": "code",
   "execution_count": 220,
   "metadata": {},
   "outputs": [],
   "source": [
    "from mobilede_utils import request_mobile_de_page\n",
    "\n",
    "url = '/fahrzeuge/details.html?id=372947832&cn=DE&fuels=ELECTRICITY&isSearchRequest=true&pageNumber=1&scopeId=C&sortOption.sortBy=creationTime&sortOption.sortOrder=DESCENDING&action=topOfPage&top=1:1&searchId=6421ed5b-1df1-1ccc-bd0c-b44042c43503&ref=srp'\n",
    "html = request_mobile_de_page(url)"
   ]
  },
  {
   "cell_type": "code",
   "execution_count": 221,
   "metadata": {},
   "outputs": [
    {
     "data": {
      "text/plain": [
       "{'brand': 'Opel',\n",
       " 'model': 'Astra',\n",
       " 'mileage_km': '2500',\n",
       " 'price_e': '43980',\n",
       " 'registration': '06/2023',\n",
       " 'electric': True,\n",
       " 'power_kw': '115',\n",
       " 'capacity_kwh': None,\n",
       " 'automatic': False,\n",
       " 'undamaged': True,\n",
       " 'el_cons_kwh100km': '14.8',\n",
       " 'features': ['ABS',\n",
       "  'Abstandstempomat',\n",
       "  'Abstandswarner',\n",
       "  'Ambiente-Beleuchtung',\n",
       "  'Android Auto',\n",
       "  'Apple CarPlay',\n",
       "  'Armlehne',\n",
       "  'Beheizbare Frontscheibe',\n",
       "  'Beheizbares Lenkrad',\n",
       "  'Berganfahrassistent',\n",
       "  'Blendfreies Fernlicht',\n",
       "  'Bluetooth',\n",
       "  'Bordcomputer',\n",
       "  'Elektr. Fensterheber',\n",
       "  'Elektr. Seitenspiegel',\n",
       "  'Elektr. Wegfahrsperre',\n",
       "  'ESP',\n",
       "  'Freisprecheinrichtung',\n",
       "  'Garantie',\n",
       "  'Head-Up Display',\n",
       "  'Induktionsladen für Smartphones',\n",
       "  'Innenspiegel autom. abblendend',\n",
       "  'Isofix',\n",
       "  'Lederlenkrad',\n",
       "  'LED-Scheinwerfer',\n",
       "  'LED-Tagfahrlicht',\n",
       "  'Leichtmetallfelgen',\n",
       "  'Lichtsensor',\n",
       "  'Lordosenstütze',\n",
       "  'Müdigkeitswarner',\n",
       "  'Multifunktionslenkrad',\n",
       "  'Navigationssystem',\n",
       "  'Nebelscheinwerfer',\n",
       "  'Nichtraucher-Fahrzeug',\n",
       "  'Notbremsassistent',\n",
       "  'Notrufsystem',\n",
       "  'Pannenkit',\n",
       "  'Radio DAB',\n",
       "  'Regensensor',\n",
       "  'Reifendruckkontrolle',\n",
       "  'Scheckheftgepflegt',\n",
       "  'Schiebedach',\n",
       "  'Servolenkung',\n",
       "  'Sitzheizung',\n",
       "  'Sommerreifen',\n",
       "  'Sportpaket',\n",
       "  'Sportsitze',\n",
       "  'Sprachsteuerung',\n",
       "  'Spurhalteassistent',\n",
       "  'Totwinkel-Assistent',\n",
       "  'Touchscreen',\n",
       "  'Traktionskontrolle',\n",
       "  'Tuner/Radio',\n",
       "  'Verkehrszeichenerkennung',\n",
       "  'Zentralverriegelung']}"
      ]
     },
     "execution_count": 221,
     "metadata": {},
     "output_type": "execute_result"
    }
   ],
   "source": [
    "from mobilede_parser import extract_car_data\n",
    "\n",
    "extract_car_data(html)"
   ]
  }
 ],
 "metadata": {
  "kernelspec": {
   "display_name": "intro-ds",
   "language": "python",
   "name": "python3"
  },
  "language_info": {
   "codemirror_mode": {
    "name": "ipython",
    "version": 3
   },
   "file_extension": ".py",
   "mimetype": "text/x-python",
   "name": "python",
   "nbconvert_exporter": "python",
   "pygments_lexer": "ipython3",
   "version": "3.10.12"
  },
  "orig_nbformat": 4
 },
 "nbformat": 4,
 "nbformat_minor": 2
}
