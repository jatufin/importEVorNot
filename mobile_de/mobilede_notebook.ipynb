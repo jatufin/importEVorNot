{
 "cells": [
  {
   "cell_type": "code",
   "execution_count": 1,
   "metadata": {},
   "outputs": [],
   "source": [
    "from mobilede_utils import request_car_detail_page\n",
    "\n",
    "html = request_car_detail_page('358672814')\n",
    "\n",
    "with open('car.html', 'w') as f:\n",
    "    f.write(html)"
   ]
  },
  {
   "cell_type": "code",
   "execution_count": 2,
   "metadata": {},
   "outputs": [
    {
     "ename": "TypeError",
     "evalue": "request_mobile_de_page() takes 1 positional argument but 2 were given",
     "output_type": "error",
     "traceback": [
      "\u001b[0;31m---------------------------------------------------------------------------\u001b[0m",
      "\u001b[0;31mTypeError\u001b[0m                                 Traceback (most recent call last)",
      "\u001b[1;32m/Users/pate/studies/intro-datascience/importEVorNot/mobile_de/mobilede_notebook.ipynb Cell 2\u001b[0m line \u001b[0;36m4\n\u001b[1;32m      <a href='vscode-notebook-cell:/Users/pate/studies/intro-datascience/importEVorNot/mobile_de/mobilede_notebook.ipynb#W2sZmlsZQ%3D%3D?line=0'>1</a>\u001b[0m \u001b[39mfrom\u001b[39;00m \u001b[39mcar_mapping\u001b[39;00m \u001b[39mimport\u001b[39;00m CAR_MAKE_MAP, CAR_MAKE_MODEL_MAP\n\u001b[1;32m      <a href='vscode-notebook-cell:/Users/pate/studies/intro-datascience/importEVorNot/mobile_de/mobilede_notebook.ipynb#W2sZmlsZQ%3D%3D?line=1'>2</a>\u001b[0m \u001b[39mfrom\u001b[39;00m \u001b[39mmobilede_utils\u001b[39;00m \u001b[39mimport\u001b[39;00m request_mobile_de_page\n\u001b[0;32m----> <a href='vscode-notebook-cell:/Users/pate/studies/intro-datascience/importEVorNot/mobile_de/mobilede_notebook.ipynb#W2sZmlsZQ%3D%3D?line=3'>4</a>\u001b[0m search_page \u001b[39m=\u001b[39m request_mobile_de_page(\u001b[39m'\u001b[39;49m\u001b[39mvolkswage\u001b[39;49m\u001b[39m'\u001b[39;49m, \u001b[39m'\u001b[39;49m\u001b[39mid.3\u001b[39;49m\u001b[39m'\u001b[39;49m)\n\u001b[1;32m      <a href='vscode-notebook-cell:/Users/pate/studies/intro-datascience/importEVorNot/mobile_de/mobilede_notebook.ipynb#W2sZmlsZQ%3D%3D?line=5'>6</a>\u001b[0m \u001b[39mwith\u001b[39;00m \u001b[39mopen\u001b[39m(\u001b[39m'\u001b[39m\u001b[39msearch.html\u001b[39m\u001b[39m'\u001b[39m, \u001b[39m'\u001b[39m\u001b[39mw\u001b[39m\u001b[39m'\u001b[39m) \u001b[39mas\u001b[39;00m f:\n\u001b[1;32m      <a href='vscode-notebook-cell:/Users/pate/studies/intro-datascience/importEVorNot/mobile_de/mobilede_notebook.ipynb#W2sZmlsZQ%3D%3D?line=6'>7</a>\u001b[0m     f\u001b[39m.\u001b[39mwrite(search_page)\n",
      "\u001b[0;31mTypeError\u001b[0m: request_mobile_de_page() takes 1 positional argument but 2 were given"
     ]
    }
   ],
   "source": [
    "from car_mapping import CAR_MAKE_MAP, CAR_MAKE_MODEL_MAP\n",
    "from mobilede_utils import request_search_page\n",
    "\n",
    "search_page = request_search_page('volkswage', 'id.3')\n",
    "\n",
    "with open('search.html', 'w') as f:\n",
    "    f.write(search_page)"
   ]
  }
 ],
 "metadata": {
  "kernelspec": {
   "display_name": "intro-ds",
   "language": "python",
   "name": "python3"
  },
  "language_info": {
   "codemirror_mode": {
    "name": "ipython",
    "version": 3
   },
   "file_extension": ".py",
   "mimetype": "text/x-python",
   "name": "python",
   "nbconvert_exporter": "python",
   "pygments_lexer": "ipython3",
   "version": "3.10.13"
  },
  "orig_nbformat": 4
 },
 "nbformat": 4,
 "nbformat_minor": 2
}
