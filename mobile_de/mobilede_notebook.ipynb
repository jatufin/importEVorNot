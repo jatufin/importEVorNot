{
 "cells": [
  {
   "cell_type": "code",
   "execution_count": 217,
   "metadata": {},
   "outputs": [],
   "source": [
    "from mobilede_utils import request_car_detail_page\n",
    "\n",
    "html = request_car_detail_page('358672814')\n",
    "\n",
    "with open('car.html', 'w') as f:\n",
    "    f.write(html)"
   ]
  },
  {
   "cell_type": "code",
   "execution_count": 2,
   "metadata": {},
   "outputs": [],
   "source": [
    "from car_mapping import CAR_MAKE_MAP, CAR_MAKE_MODEL_MAP\n",
    "from mobilede_utils import request_search_page\n",
    "\n",
    "search_page = request_search_page('volkswagen', 'id.3')\n",
    "\n",
    "with open('search.html', 'w') as f:\n",
    "    f.write(search_page)"
   ]
  },
  {
   "cell_type": "code",
   "execution_count": 67,
   "metadata": {},
   "outputs": [],
   "source": [
    "from mobilede_utils import request_car_detail_page\n",
    "\n",
    "html = request_car_detail_page('361833685')"
   ]
  },
  {
   "cell_type": "code",
   "execution_count": 68,
   "metadata": {},
   "outputs": [
    {
     "data": {
      "text/plain": [
       "{'firstRegistrationMonth': 3,\n",
       " 'firstRegistrationYear': 2022,\n",
       " 'make': 'Audi',\n",
       " 'model': 'Q4',\n",
       " 'modelTypeName': '50 e-tron quattro AHK Standhz. HUD Navi Matri',\n",
       " 'color': 'Grey',\n",
       " 'metallicColor': False,\n",
       " 'kilometers': '26686',\n",
       " 'price': '56880',\n",
       " 'registration': '03/2022',\n",
       " 'electric': True,\n",
       " 'power': '220',\n",
       " 'batteryCapacity': None,\n",
       " 'automatic': True,\n",
       " 'undamaged': None,\n",
       " 'seats': '5',\n",
       " 'leather_upholstery': True,\n",
       " 'isSUV': True,\n",
       " 'airconditioning': True,\n",
       " 'elec_cons': None,\n",
       " 'n_prev_owners': '1',\n",
       " 'features': ['ABS',\n",
       "  'Adaptive cornering lights',\n",
       "  'Adaptive Cruise Control',\n",
       "  'Alloy wheels',\n",
       "  'Ambient lighting',\n",
       "  'Android Auto',\n",
       "  'Apple CarPlay',\n",
       "  'Arm rest',\n",
       "  'Autom. dimming interior mirror',\n",
       "  'Auxiliary heating',\n",
       "  'Blind spot assist',\n",
       "  'Bluetooth',\n",
       "  'Cargo barrier',\n",
       "  'Central locking',\n",
       "  'DAB radio',\n",
       "  'Digital cockpit',\n",
       "  'Distance warning system',\n",
       "  'Electric seat adjustment',\n",
       "  'Electric side mirror',\n",
       "  'Electric tailgate',\n",
       "  'Electric windows',\n",
       "  'Emergency brake assist',\n",
       "  'Emergency call system',\n",
       "  'ESP',\n",
       "  'Fatigue warning system',\n",
       "  'Fog lamp',\n",
       "  'Four wheel drive',\n",
       "  'Glare-free high beam headlights',\n",
       "  'Hands-free kit',\n",
       "  'Headlight washer system',\n",
       "  'Head-up display',\n",
       "  'Heated seats',\n",
       "  'High beam assist',\n",
       "  'Immobilizer',\n",
       "  'Integrated music streaming',\n",
       "  'Isofix',\n",
       "  'Keyless central locking',\n",
       "  'Lane change assist',\n",
       "  'Laser headlights',\n",
       "  'Leather steering wheel',\n",
       "  'LED running lights',\n",
       "  'Light sensor',\n",
       "  'Lumbar support',\n",
       "  'Multifunction steering wheel',\n",
       "  'Navigation system',\n",
       "  'Non-smoker vehicle',\n",
       "  'On-board computer',\n",
       "  'Paddle shifters',\n",
       "  'Passenger seat Isofix point',\n",
       "  'Power Assisted Steering',\n",
       "  'Rain sensor',\n",
       "  'Roof rack',\n",
       "  'Sound system',\n",
       "  'Speed limit control system',\n",
       "  'Sport seats',\n",
       "  'Sports package',\n",
       "  'Sports suspension',\n",
       "  'Touchscreen',\n",
       "  'Traction control',\n",
       "  'Traffic sign recognition',\n",
       "  'Trailer coupling, swiveling',\n",
       "  'Tuner/radio',\n",
       "  'Tyre pressure monitoring',\n",
       "  'USB port',\n",
       "  'Voice control',\n",
       "  'Warranty',\n",
       "  'Parking sensor: Front',\n",
       "  'Parking sensor: Rear',\n",
       "  'Parking sensor: Camera']}"
      ]
     },
     "execution_count": 68,
     "metadata": {},
     "output_type": "execute_result"
    }
   ],
   "source": [
    "from mobilede_parser import extract_car_data\n",
    "\n",
    "data = extract_car_data(html)\n",
    "data"
   ]
  },
  {
   "cell_type": "code",
   "execution_count": 69,
   "metadata": {},
   "outputs": [],
   "source": [
    "FEATURES_TO_COLUMN_NAME = {\n",
    "    'Adaptive Cruise Control': 'parking_sensors',\n",
    "    'Navigation system': 'satellite_navigator',\n",
    "    'Adaptive Cruise Control': 'cruise_control_adaptive',\n",
    "    'Parking sensor: Camera': 'parking_camera_simple_camera',\n",
    "    'Heated seats': 'seat_heaters',\n",
    "    'Alloy wheels': 'alloy_wheels',\n",
    "    'Electric side mirror': 'electric_mirrors',\n",
    "    'Lane change assist': 'lane_departure_warning_system',\n",
    "    'Electric tailgate': 'electrically_operated_tailgate',\n",
    "    'Emergency brake assist': 'emergency_brake_assist',\n",
    "    'Collision avoidance system': 'collision_avoidance_system',\n",
    "    'Cruise control: Traditional': 'cruise_control_traditional',\n",
    "    'Parking sensor: Self-steering systems': 'parking_assistant',\n",
    "    'Trailer coupling, swiveling': 'tow_bar', # done\n",
    "    'Trailer coupling, detachable': 'tow_bar', # done\n",
    "    'Trailer coupling, fix': 'tow_bar', # done\n",
    "    'Heated steering wheel': 'heated_steering_wheel', # done\n",
    "    'Sunroof': 'sunroof', # done\n",
    "    'Panoramic roof': 'sun_hatch_with_panorama', # done\n",
    "    'Adaptive lighting': 'adaptive_headlights', # done\n",
    "    'Sport seats': 'sport_seats', # done\n",
    "    'Auxiliary heating': 'fuel_battery_powered_heater', # done\n",
    "    'Parking sensor: 360° camera': 'parking_camera_360-degree_camera', # muutetaan kameraksi vain\n",
    "    'Battery preheating': 'battery_preheating',\n",
    "    'Electric seat adjustment': 'electric_seats_without_memory', # check\n",
    "    'Air suspension': 'air_suspension', # done\n",
    "    'Adaptive cornering lights': 'curve_lights', # done\n",
    "    'Head-up display': 'head_up_display', # done\n",
    "    'Sports suspension': 'sport_base', # done,    \n",
    "}\n"
   ]
  },
  {
   "cell_type": "code",
   "execution_count": 70,
   "metadata": {},
   "outputs": [
    {
     "name": "stdout",
     "output_type": "stream",
     "text": [
      "rwd\n",
      "4wd\n",
      "4wd\n"
     ]
    }
   ],
   "source": [
    "import pandas as pd\n",
    "drivetype_df = pd.read_csv('./drivetype.csv')\n",
    "\n",
    "CURRENT_YEAR = 2023\n",
    "CURRENT_MONTH = 10\n",
    "\n",
    "def get_age(reg_y, reg_m):\n",
    "    if reg_y and reg_m:\n",
    "        return CURRENT_YEAR - reg_y + (CURRENT_MONTH - reg_m) / 12\n",
    "        \n",
    "    return CURRENT_YEAR - reg_y\n",
    "\n",
    "def get_drive_type(make, model, features):\n",
    "    if 'Four wheel drive' in features:\n",
    "        return '4wd'\n",
    "    make_df = drivetype_df[(drivetype_df['make'] == make) &( drivetype_df['model'] == model)].sort_values(by='driveType', ascending=False).reset_index(drop=True)\n",
    "    return make_df['driveType'].iloc[0]\n",
    "\n",
    "\n",
    "print(get_drive_type('tesla', 'model 3', []))\n",
    "print(get_drive_type('tesla', 'model 3', ['Four wheel drive']))\n",
    "print(get_drive_type('bmw', 'ix', []))"
   ]
  },
  {
   "cell_type": "code",
   "execution_count": 96,
   "metadata": {},
   "outputs": [],
   "source": [
    "import re\n",
    "\n",
    "capacities = pd.read_csv('capacities.csv')\n",
    "nettiauto_data = pd.read_csv(\"../nettiauto/nettiauto_dataset.csv\")\n",
    "make_model_mean_capacities = nettiauto_data.groupby(by=[\"make\",\"model\"])[\"batteryCapacity\"].mean()\n",
    "\n",
    "def get_capacity(make, model, modelTypeName):\n",
    "    m = (capacities[\"make\"] == make) & (capacities[\"model\"] == model)\n",
    "    for i, row in capacities[m].iterrows():\n",
    "        if bool(re.search(r'{}'.format(row[\"regex\"]), modelTypeName, re.I)) ^ bool(row[\"inverse\"]):\n",
    "            return float(row[\"batteryCapacity\"])\n",
    "    if (make, model) in make_model_mean_capacities.index:\n",
    "        return float(make_model_mean_capacities[make, model])\n",
    "    raise Exception(\"Battery capacity missing and it cannot be deduced with given model.\")"
   ]
  },
  {
   "cell_type": "code",
   "execution_count": 97,
   "metadata": {},
   "outputs": [
    {
     "ename": "Exception",
     "evalue": "Battery capacity missing and it cannot be deduced with given model.",
     "output_type": "error",
     "traceback": [
      "\u001b[0;31m---------------------------------------------------------------------------\u001b[0m",
      "\u001b[0;31mException\u001b[0m                                 Traceback (most recent call last)",
      "\u001b[0;32m/tmp/ipykernel_33966/367726769.py\u001b[0m in \u001b[0;36m<module>\u001b[0;34m\u001b[0m\n\u001b[1;32m     15\u001b[0m     \u001b[0;34m'seats'\u001b[0m\u001b[0;34m:\u001b[0m \u001b[0mint\u001b[0m\u001b[0;34m(\u001b[0m\u001b[0mdata\u001b[0m\u001b[0;34m.\u001b[0m\u001b[0mget\u001b[0m\u001b[0;34m(\u001b[0m\u001b[0;34m'seats'\u001b[0m\u001b[0;34m,\u001b[0m \u001b[0;34m'5'\u001b[0m\u001b[0;34m)\u001b[0m\u001b[0;34m)\u001b[0m\u001b[0;34m,\u001b[0m\u001b[0;34m\u001b[0m\u001b[0;34m\u001b[0m\u001b[0m\n\u001b[1;32m     16\u001b[0m     \u001b[0;34m'power'\u001b[0m\u001b[0;34m:\u001b[0m \u001b[0mfloat\u001b[0m\u001b[0;34m(\u001b[0m\u001b[0mdata\u001b[0m\u001b[0;34m.\u001b[0m\u001b[0mget\u001b[0m\u001b[0;34m(\u001b[0m\u001b[0;34m'power'\u001b[0m\u001b[0;34m,\u001b[0m \u001b[0;34m'-1'\u001b[0m\u001b[0;34m)\u001b[0m\u001b[0;34m)\u001b[0m\u001b[0;34m,\u001b[0m\u001b[0;34m\u001b[0m\u001b[0;34m\u001b[0m\u001b[0m\n\u001b[0;32m---> 17\u001b[0;31m     \u001b[0;34m'batteryCapacity'\u001b[0m\u001b[0;34m:\u001b[0m \u001b[0mfloat\u001b[0m\u001b[0;34m(\u001b[0m\u001b[0mc\u001b[0m\u001b[0;34m)\u001b[0m \u001b[0;32mif\u001b[0m \u001b[0;34m(\u001b[0m\u001b[0mc\u001b[0m\u001b[0;34m:=\u001b[0m\u001b[0mdata\u001b[0m\u001b[0;34m.\u001b[0m\u001b[0mget\u001b[0m\u001b[0;34m(\u001b[0m\u001b[0;34m'batteryCapacity'\u001b[0m\u001b[0;34m)\u001b[0m\u001b[0;34m)\u001b[0m \u001b[0;32melse\u001b[0m \u001b[0mget_capacity\u001b[0m\u001b[0;34m(\u001b[0m\u001b[0mmake\u001b[0m\u001b[0;34m,\u001b[0m \u001b[0mmodel\u001b[0m\u001b[0;34m,\u001b[0m \u001b[0mdata\u001b[0m\u001b[0;34m[\u001b[0m\u001b[0;34m\"modelTypeName\"\u001b[0m\u001b[0;34m]\u001b[0m\u001b[0;34m)\u001b[0m\u001b[0;34m,\u001b[0m\u001b[0;34m\u001b[0m\u001b[0;34m\u001b[0m\u001b[0m\n\u001b[0m\u001b[1;32m     18\u001b[0m     \u001b[0;34m'age'\u001b[0m\u001b[0;34m:\u001b[0m \u001b[0mget_age\u001b[0m\u001b[0;34m(\u001b[0m\u001b[0mdata\u001b[0m\u001b[0;34m[\u001b[0m\u001b[0;34m'firstRegistrationYear'\u001b[0m\u001b[0;34m]\u001b[0m\u001b[0;34m,\u001b[0m \u001b[0mdata\u001b[0m\u001b[0;34m[\u001b[0m\u001b[0;34m'firstRegistrationMonth'\u001b[0m\u001b[0;34m]\u001b[0m\u001b[0;34m)\u001b[0m\u001b[0;34m,\u001b[0m\u001b[0;34m\u001b[0m\u001b[0;34m\u001b[0m\u001b[0m\n\u001b[1;32m     19\u001b[0m     \u001b[0;34m'isSuv'\u001b[0m\u001b[0;34m:\u001b[0m \u001b[0mdata\u001b[0m\u001b[0;34m[\u001b[0m\u001b[0;34m'isSUV'\u001b[0m\u001b[0;34m]\u001b[0m\u001b[0;34m,\u001b[0m\u001b[0;34m\u001b[0m\u001b[0;34m\u001b[0m\u001b[0m\n",
      "\u001b[0;32m/tmp/ipykernel_33966/3194535014.py\u001b[0m in \u001b[0;36mget_capacity\u001b[0;34m(make, model, modelTypeName)\u001b[0m\n\u001b[1;32m     12\u001b[0m     \u001b[0;32mif\u001b[0m \u001b[0;34m(\u001b[0m\u001b[0mmake\u001b[0m\u001b[0;34m,\u001b[0m \u001b[0mmodel\u001b[0m\u001b[0;34m)\u001b[0m \u001b[0;32min\u001b[0m \u001b[0mmake_model_mean_capacities\u001b[0m\u001b[0;34m.\u001b[0m\u001b[0mindex\u001b[0m\u001b[0;34m:\u001b[0m\u001b[0;34m\u001b[0m\u001b[0;34m\u001b[0m\u001b[0m\n\u001b[1;32m     13\u001b[0m         \u001b[0;32mreturn\u001b[0m \u001b[0mfloat\u001b[0m\u001b[0;34m(\u001b[0m\u001b[0mmake_model_mean_capacities\u001b[0m\u001b[0;34m[\u001b[0m\u001b[0mmake\u001b[0m\u001b[0;34m,\u001b[0m \u001b[0mmodel\u001b[0m\u001b[0;34m]\u001b[0m\u001b[0;34m)\u001b[0m\u001b[0;34m\u001b[0m\u001b[0;34m\u001b[0m\u001b[0m\n\u001b[0;32m---> 14\u001b[0;31m     \u001b[0;32mraise\u001b[0m \u001b[0mException\u001b[0m\u001b[0;34m(\u001b[0m\u001b[0;34m\"Battery capacity missing and it cannot be deduced with given model.\"\u001b[0m\u001b[0;34m)\u001b[0m\u001b[0;34m\u001b[0m\u001b[0;34m\u001b[0m\u001b[0m\n\u001b[0m",
      "\u001b[0;31mException\u001b[0m: Battery capacity missing and it cannot be deduced with given model."
     ]
    }
   ],
   "source": [
    "\n",
    "make = data.get('make', '').lower()\n",
    "model = data.get('model', '').lower().replace('id.', 'id')\n",
    "totalOwenrs_string = data['n_prev_owners'] if 'n_prev_owners' in data and data['n_prev_owners'] else 1\n",
    "\n",
    "features_set = set(data['features'])\n",
    "\n",
    "result = {\n",
    "    'make': make,\n",
    "    'model': model,\n",
    "    'color': data.get('color', '').lower(),\n",
    "    'driveType': get_drive_type(make, model, data['features']),\n",
    "    'price': float(data.get('price', '-1')),\n",
    "    'totalOwners': int(totalOwenrs_string),\n",
    "    'kilometers': int(data.get('kilometers', '-1')),\n",
    "    'seats': int(data.get('seats', '5')),\n",
    "    'power': float(data.get('power', '-1')),\n",
    "    'batteryCapacity': float(c) if (c:=data['batteryCapacity']) else get_capacity(make, model, data[\"modelTypeName\"]),\n",
    "    'age': get_age(data['firstRegistrationYear'], data['firstRegistrationMonth']),\n",
    "    'isSuv': data['isSUV'],\n",
    "    'metallicColor': data['metallicColor'],\n",
    "    'airconditioning': data['airconditioning'],\n",
    "    **{FEATURES_TO_COLUMN_NAME[key]: key in features_set for key in FEATURES_TO_COLUMN_NAME.keys()}\n",
    "}\n",
    "\n",
    "result"
   ]
  },
  {
   "cell_type": "markdown",
   "metadata": {},
   "source": []
  }
 ],
 "metadata": {
  "kernelspec": {
   "display_name": "intro-ds",
   "language": "python",
   "name": "python3"
  },
  "language_info": {
   "codemirror_mode": {
    "name": "ipython",
    "version": 3
   },
   "file_extension": ".py",
   "mimetype": "text/x-python",
   "name": "python",
   "nbconvert_exporter": "python",
   "pygments_lexer": "ipython3",
   "version": "3.10.13"
  },
  "orig_nbformat": 4
 },
 "nbformat": 4,
 "nbformat_minor": 2
}
